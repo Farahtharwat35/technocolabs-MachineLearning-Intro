{
 "cells": [
  {
   "cell_type": "markdown",
   "id": "186a543a",
   "metadata": {
    "papermill": {
     "duration": 0.00403,
     "end_time": "2023-06-13T21:32:40.601765",
     "exception": false,
     "start_time": "2023-06-13T21:32:40.597735",
     "status": "completed"
    },
    "tags": []
   },
   "source": [
    "**[Machine Learning Course Home Page](https://www.kaggle.com/learn/machine-learning)**\n",
    "\n",
    "---\n"
   ]
  },
  {
   "cell_type": "markdown",
   "id": "bb5175ca",
   "metadata": {
    "papermill": {
     "duration": 0.003086,
     "end_time": "2023-06-13T21:32:40.608325",
     "exception": false,
     "start_time": "2023-06-13T21:32:40.605239",
     "status": "completed"
    },
    "tags": []
   },
   "source": [
    "This exercise will test your ability to read a data file and understand statistics about the data.\n",
    "\n",
    "In later exercises, you will apply techniques to filter the data, build a machine learning model, and iteratively improve your model.\n",
    "\n",
    "The course examples use data from Melbourne. To ensure you can apply these techniques on your own, you will have to apply them to a new dataset (with house prices from Iowa).\n",
    "\n",
    "The exercises use a \"notebook\" coding environment.  In case you are unfamiliar with notebooks, we have a [90-second intro video](https://www.youtube.com/watch?v=4C2qMnaIKL4).\n",
    "\n",
    "# Exercises\n",
    "\n",
    "Run the following cell to set up code-checking, which will verify your work as you go."
   ]
  },
  {
   "cell_type": "code",
   "execution_count": 1,
   "id": "11c30370",
   "metadata": {
    "execution": {
     "iopub.execute_input": "2023-06-13T21:32:40.616809Z",
     "iopub.status.busy": "2023-06-13T21:32:40.616187Z",
     "iopub.status.idle": "2023-06-13T21:32:40.654301Z",
     "shell.execute_reply": "2023-06-13T21:32:40.653546Z"
    },
    "papermill": {
     "duration": 0.044771,
     "end_time": "2023-06-13T21:32:40.656355",
     "exception": false,
     "start_time": "2023-06-13T21:32:40.611584",
     "status": "completed"
    },
    "tags": []
   },
   "outputs": [
    {
     "name": "stdout",
     "output_type": "stream",
     "text": [
      "Setup Complete\n"
     ]
    }
   ],
   "source": [
    "# Set up code checking\n",
    "from learntools.core import binder\n",
    "binder.bind(globals())\n",
    "from learntools.machine_learning.ex2 import *\n",
    "print(\"Setup Complete\")"
   ]
  },
  {
   "cell_type": "markdown",
   "id": "c9e3d5ef",
   "metadata": {
    "papermill": {
     "duration": 0.003101,
     "end_time": "2023-06-13T21:32:40.663340",
     "exception": false,
     "start_time": "2023-06-13T21:32:40.660239",
     "status": "completed"
    },
    "tags": []
   },
   "source": [
    "## Step 1: Loading Data\n",
    "Read the Iowa data file into a Pandas DataFrame called `home_data`."
   ]
  },
  {
   "cell_type": "code",
   "execution_count": 2,
   "id": "6420eaab",
   "metadata": {
    "execution": {
     "iopub.execute_input": "2023-06-13T21:32:40.671884Z",
     "iopub.status.busy": "2023-06-13T21:32:40.671318Z",
     "iopub.status.idle": "2023-06-13T21:32:40.719220Z",
     "shell.execute_reply": "2023-06-13T21:32:40.718565Z"
    },
    "papermill": {
     "duration": 0.05462,
     "end_time": "2023-06-13T21:32:40.721261",
     "exception": false,
     "start_time": "2023-06-13T21:32:40.666641",
     "status": "completed"
    },
    "tags": []
   },
   "outputs": [
    {
     "data": {
      "application/javascript": [
       "parent.postMessage({\"jupyterEvent\": \"custom.exercise_interaction\", \"data\": {\"outcomeType\": 1, \"valueTowardsCompletion\": 0.5, \"interactionType\": 1, \"questionType\": 1, \"questionId\": \"1_LoadHomeData\", \"learnToolsVersion\": \"0.3.4\", \"failureMessage\": \"\", \"exceptionClass\": \"\", \"trace\": \"\"}}, \"*\")"
      ],
      "text/plain": [
       "<IPython.core.display.Javascript object>"
      ]
     },
     "metadata": {},
     "output_type": "display_data"
    },
    {
     "data": {
      "text/markdown": [
       "<span style=\"color:#33cc33\">Correct</span>"
      ],
      "text/plain": [
       "Correct"
      ]
     },
     "metadata": {},
     "output_type": "display_data"
    }
   ],
   "source": [
    "import pandas as pd\n",
    "\n",
    "# Path of the file to read\n",
    "iowa_file_path = '../input/home-data-for-ml-course/train.csv'\n",
    "\n",
    "# Fill in the line below to read the file into a variable home_data\n",
    "home_data = pd.read_csv(iowa_file_path)\n",
    "\n",
    "# Call line below with no argument to check that you've loaded the data correctly\n",
    "step_1.check()"
   ]
  },
  {
   "cell_type": "code",
   "execution_count": 3,
   "id": "da5d1d17",
   "metadata": {
    "execution": {
     "iopub.execute_input": "2023-06-13T21:32:40.731290Z",
     "iopub.status.busy": "2023-06-13T21:32:40.730666Z",
     "iopub.status.idle": "2023-06-13T21:32:40.733842Z",
     "shell.execute_reply": "2023-06-13T21:32:40.733225Z"
    },
    "papermill": {
     "duration": 0.010274,
     "end_time": "2023-06-13T21:32:40.735610",
     "exception": false,
     "start_time": "2023-06-13T21:32:40.725336",
     "status": "completed"
    },
    "tags": []
   },
   "outputs": [],
   "source": [
    "# Lines below will give you a hint or solution code\n",
    "#step_1.hint()\n",
    "#step_1.solution()"
   ]
  },
  {
   "cell_type": "markdown",
   "id": "ef852db1",
   "metadata": {
    "papermill": {
     "duration": 0.00369,
     "end_time": "2023-06-13T21:32:40.743275",
     "exception": false,
     "start_time": "2023-06-13T21:32:40.739585",
     "status": "completed"
    },
    "tags": []
   },
   "source": [
    "## Step 2: Review The Data\n",
    "Use the command you learned to view summary statistics of the data. Then fill in variables to answer the following questions"
   ]
  },
  {
   "cell_type": "code",
   "execution_count": 4,
   "id": "70a59f59",
   "metadata": {
    "execution": {
     "iopub.execute_input": "2023-06-13T21:32:40.752995Z",
     "iopub.status.busy": "2023-06-13T21:32:40.752668Z",
     "iopub.status.idle": "2023-06-13T21:32:40.758186Z",
     "shell.execute_reply": "2023-06-13T21:32:40.757421Z"
    },
    "papermill": {
     "duration": 0.012654,
     "end_time": "2023-06-13T21:32:40.759734",
     "exception": false,
     "start_time": "2023-06-13T21:32:40.747080",
     "status": "completed"
    },
    "tags": []
   },
   "outputs": [
    {
     "data": {
      "text/markdown": [],
      "text/plain": [
       "<learntools.core.constants.PlaceholderValue at 0x78355f8639d0>"
      ]
     },
     "execution_count": 4,
     "metadata": {},
     "output_type": "execute_result"
    }
   ],
   "source": [
    "# Print summary statistics in next line\n",
    "____"
   ]
  },
  {
   "cell_type": "code",
   "execution_count": 5,
   "id": "b0983e9b",
   "metadata": {
    "execution": {
     "iopub.execute_input": "2023-06-13T21:32:40.770320Z",
     "iopub.status.busy": "2023-06-13T21:32:40.769055Z",
     "iopub.status.idle": "2023-06-13T21:32:40.777952Z",
     "shell.execute_reply": "2023-06-13T21:32:40.776945Z"
    },
    "papermill": {
     "duration": 0.016619,
     "end_time": "2023-06-13T21:32:40.780385",
     "exception": false,
     "start_time": "2023-06-13T21:32:40.763766",
     "status": "completed"
    },
    "tags": []
   },
   "outputs": [
    {
     "data": {
      "application/javascript": [
       "parent.postMessage({\"jupyterEvent\": \"custom.exercise_interaction\", \"data\": {\"outcomeType\": 1, \"valueTowardsCompletion\": 0.5, \"interactionType\": 1, \"questionType\": 1, \"questionId\": \"2_HomeDescription\", \"learnToolsVersion\": \"0.3.4\", \"failureMessage\": \"\", \"exceptionClass\": \"\", \"trace\": \"\"}}, \"*\")"
      ],
      "text/plain": [
       "<IPython.core.display.Javascript object>"
      ]
     },
     "metadata": {},
     "output_type": "display_data"
    },
    {
     "data": {
      "text/markdown": [
       "<span style=\"color:#33cc33\">Correct</span>"
      ],
      "text/plain": [
       "Correct"
      ]
     },
     "metadata": {},
     "output_type": "display_data"
    }
   ],
   "source": [
    "# What is the average lot size (rounded to nearest integer)?\n",
    "avg_lot_size = 10517\n",
    "\n",
    "# As of today, how old is the newest home (current year - the date in which it was built)\n",
    "newest_home_age = 13\n",
    "\n",
    "# Checks your answers\n",
    "step_2.check()"
   ]
  },
  {
   "cell_type": "code",
   "execution_count": 6,
   "id": "7c6722f6",
   "metadata": {
    "execution": {
     "iopub.execute_input": "2023-06-13T21:32:40.789629Z",
     "iopub.status.busy": "2023-06-13T21:32:40.788531Z",
     "iopub.status.idle": "2023-06-13T21:32:40.792529Z",
     "shell.execute_reply": "2023-06-13T21:32:40.791637Z"
    },
    "papermill": {
     "duration": 0.010489,
     "end_time": "2023-06-13T21:32:40.794459",
     "exception": false,
     "start_time": "2023-06-13T21:32:40.783970",
     "status": "completed"
    },
    "tags": []
   },
   "outputs": [],
   "source": [
    "#step_2.hint()\n",
    "#step_2.solution()"
   ]
  },
  {
   "cell_type": "markdown",
   "id": "ab119c20",
   "metadata": {
    "papermill": {
     "duration": 0.004302,
     "end_time": "2023-06-13T21:32:40.802981",
     "exception": false,
     "start_time": "2023-06-13T21:32:40.798679",
     "status": "completed"
    },
    "tags": []
   },
   "source": [
    "## Think About Your Data\n",
    "\n",
    "The newest house in your data isn't that new.  A few potential explanations for this:\n",
    "1. They haven't built new houses where this data was collected.\n",
    "1. The data was collected a long time ago. Houses built after the data publication wouldn't show up.\n",
    "\n",
    "If the reason is explanation #1 above, does that affect your trust in the model you build with this data? What about if it is reason #2?\n",
    "\n",
    "How could you dig into the data to see which explanation is more plausible?\n",
    "\n",
    "Check out this **[discussion thread](https://www.kaggle.com/learn-forum/60581)** to see what others think or to add your ideas.\n",
    "\n",
    "# Keep Going\n",
    "\n",
    "You are ready for **[Your First Machine Learning Model](https://www.kaggle.com/dansbecker/your-first-machine-learning-model).**\n"
   ]
  },
  {
   "cell_type": "markdown",
   "id": "cd0cd8c0",
   "metadata": {
    "papermill": {
     "duration": 0.003025,
     "end_time": "2023-06-13T21:32:40.809301",
     "exception": false,
     "start_time": "2023-06-13T21:32:40.806276",
     "status": "completed"
    },
    "tags": []
   },
   "source": [
    "---\n",
    "**[Machine Learning Course Home Page](https://www.kaggle.com/learn/machine-learning)**\n",
    "\n"
   ]
  }
 ],
 "metadata": {
  "kernelspec": {
   "display_name": "Python 3",
   "language": "python",
   "name": "python3"
  },
  "language_info": {
   "codemirror_mode": {
    "name": "ipython",
    "version": 3
   },
   "file_extension": ".py",
   "mimetype": "text/x-python",
   "name": "python",
   "nbconvert_exporter": "python",
   "pygments_lexer": "ipython3",
   "version": "3.10.10"
  },
  "papermill": {
   "default_parameters": {},
   "duration": 10.522984,
   "end_time": "2023-06-13T21:32:41.531488",
   "environment_variables": {},
   "exception": null,
   "input_path": "__notebook__.ipynb",
   "output_path": "__notebook__.ipynb",
   "parameters": {},
   "start_time": "2023-06-13T21:32:31.008504",
   "version": "2.4.0"
  }
 },
 "nbformat": 4,
 "nbformat_minor": 5
}
