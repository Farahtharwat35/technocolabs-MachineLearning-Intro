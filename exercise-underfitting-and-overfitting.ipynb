{
 "cells": [
  {
   "cell_type": "markdown",
   "id": "dac89be5",
   "metadata": {
    "papermill": {
     "duration": 0.005151,
     "end_time": "2023-06-13T21:38:05.790190",
     "exception": false,
     "start_time": "2023-06-13T21:38:05.785039",
     "status": "completed"
    },
    "tags": []
   },
   "source": [
    "**This notebook is an exercise in the [Introduction to Machine Learning](https://www.kaggle.com/learn/intro-to-machine-learning) course.  You can reference the tutorial at [this link](https://www.kaggle.com/dansbecker/underfitting-and-overfitting).**\n",
    "\n",
    "---\n"
   ]
  },
  {
   "cell_type": "markdown",
   "id": "c0a3e3af",
   "metadata": {
    "papermill": {
     "duration": 0.004078,
     "end_time": "2023-06-13T21:38:05.799005",
     "exception": false,
     "start_time": "2023-06-13T21:38:05.794927",
     "status": "completed"
    },
    "tags": []
   },
   "source": [
    "## Recap\n",
    "You've built your first model, and now it's time to optimize the size of the tree to make better predictions. Run this cell to set up your coding environment where the previous step left off."
   ]
  },
  {
   "cell_type": "code",
   "execution_count": 1,
   "id": "3a306b50",
   "metadata": {
    "execution": {
     "iopub.execute_input": "2023-06-13T21:38:05.810328Z",
     "iopub.status.busy": "2023-06-13T21:38:05.809751Z",
     "iopub.status.idle": "2023-06-13T21:38:07.773733Z",
     "shell.execute_reply": "2023-06-13T21:38:07.772685Z"
    },
    "papermill": {
     "duration": 1.972699,
     "end_time": "2023-06-13T21:38:07.776437",
     "exception": false,
     "start_time": "2023-06-13T21:38:05.803738",
     "status": "completed"
    },
    "tags": []
   },
   "outputs": [
    {
     "name": "stdout",
     "output_type": "stream",
     "text": [
      "Validation MAE: 29,653\n",
      "\n",
      "Setup complete\n"
     ]
    }
   ],
   "source": [
    "# Code you have previously used to load data\n",
    "import pandas as pd\n",
    "from sklearn.metrics import mean_absolute_error\n",
    "from sklearn.model_selection import train_test_split\n",
    "from sklearn.tree import DecisionTreeRegressor\n",
    "\n",
    "\n",
    "# Path of the file to read\n",
    "iowa_file_path = '../input/home-data-for-ml-course/train.csv'\n",
    "\n",
    "home_data = pd.read_csv(iowa_file_path)\n",
    "# Create target object and call it y\n",
    "y = home_data.SalePrice\n",
    "# Create X\n",
    "features = ['LotArea', 'YearBuilt', '1stFlrSF', '2ndFlrSF', 'FullBath', 'BedroomAbvGr', 'TotRmsAbvGrd']\n",
    "X = home_data[features]\n",
    "\n",
    "# Split into validation and training data\n",
    "train_X, val_X, train_y, val_y = train_test_split(X, y, random_state=1)\n",
    "\n",
    "# Specify Model\n",
    "iowa_model = DecisionTreeRegressor(random_state=1)\n",
    "# Fit Model\n",
    "iowa_model.fit(train_X, train_y)\n",
    "\n",
    "# Make validation predictions and calculate mean absolute error\n",
    "val_predictions = iowa_model.predict(val_X)\n",
    "val_mae = mean_absolute_error(val_predictions, val_y)\n",
    "print(\"Validation MAE: {:,.0f}\".format(val_mae))\n",
    "\n",
    "# Set up code checking\n",
    "from learntools.core import binder\n",
    "binder.bind(globals())\n",
    "from learntools.machine_learning.ex5 import *\n",
    "print(\"\\nSetup complete\")"
   ]
  },
  {
   "cell_type": "markdown",
   "id": "e0a86869",
   "metadata": {
    "papermill": {
     "duration": 0.004192,
     "end_time": "2023-06-13T21:38:07.785364",
     "exception": false,
     "start_time": "2023-06-13T21:38:07.781172",
     "status": "completed"
    },
    "tags": []
   },
   "source": [
    "# Exercises\n",
    "You could write the function `get_mae` yourself. For now, we'll supply it. This is the same function you read about in the previous lesson. Just run the cell below."
   ]
  },
  {
   "cell_type": "code",
   "execution_count": 2,
   "id": "c0ce5d26",
   "metadata": {
    "execution": {
     "iopub.execute_input": "2023-06-13T21:38:07.796680Z",
     "iopub.status.busy": "2023-06-13T21:38:07.796241Z",
     "iopub.status.idle": "2023-06-13T21:38:07.801989Z",
     "shell.execute_reply": "2023-06-13T21:38:07.801143Z"
    },
    "papermill": {
     "duration": 0.013934,
     "end_time": "2023-06-13T21:38:07.804258",
     "exception": false,
     "start_time": "2023-06-13T21:38:07.790324",
     "status": "completed"
    },
    "tags": []
   },
   "outputs": [],
   "source": [
    "def get_mae(max_leaf_nodes, train_X, val_X, train_y, val_y):\n",
    "    model = DecisionTreeRegressor(max_leaf_nodes=max_leaf_nodes, random_state=0)\n",
    "    model.fit(train_X, train_y)\n",
    "    preds_val = model.predict(val_X)\n",
    "    mae = mean_absolute_error(val_y, preds_val)\n",
    "    return(mae)"
   ]
  },
  {
   "cell_type": "markdown",
   "id": "3b6fe9f1",
   "metadata": {
    "papermill": {
     "duration": 0.00428,
     "end_time": "2023-06-13T21:38:07.813020",
     "exception": false,
     "start_time": "2023-06-13T21:38:07.808740",
     "status": "completed"
    },
    "tags": []
   },
   "source": [
    "## Step 1: Compare Different Tree Sizes\n",
    "Write a loop that tries the following values for *max_leaf_nodes* from a set of possible values.\n",
    "\n",
    "Call the *get_mae* function on each value of max_leaf_nodes. Store the output in some way that allows you to select the value of `max_leaf_nodes` that gives the most accurate model on your data."
   ]
  },
  {
   "cell_type": "code",
   "execution_count": 3,
   "id": "164d93da",
   "metadata": {
    "execution": {
     "iopub.execute_input": "2023-06-13T21:38:07.823833Z",
     "iopub.status.busy": "2023-06-13T21:38:07.823078Z",
     "iopub.status.idle": "2023-06-13T21:38:07.873649Z",
     "shell.execute_reply": "2023-06-13T21:38:07.872868Z"
    },
    "papermill": {
     "duration": 0.058399,
     "end_time": "2023-06-13T21:38:07.875718",
     "exception": false,
     "start_time": "2023-06-13T21:38:07.817319",
     "status": "completed"
    },
    "tags": []
   },
   "outputs": [
    {
     "data": {
      "application/javascript": [
       "parent.postMessage({\"jupyterEvent\": \"custom.exercise_interaction\", \"data\": {\"outcomeType\": 1, \"valueTowardsCompletion\": 0.5, \"interactionType\": 1, \"questionType\": 1, \"questionId\": \"1_BestTreeSize\", \"learnToolsVersion\": \"0.3.4\", \"failureMessage\": \"\", \"exceptionClass\": \"\", \"trace\": \"\"}}, \"*\")"
      ],
      "text/plain": [
       "<IPython.core.display.Javascript object>"
      ]
     },
     "metadata": {},
     "output_type": "display_data"
    },
    {
     "data": {
      "text/markdown": [
       "<span style=\"color:#33cc33\">Correct</span>"
      ],
      "text/plain": [
       "Correct"
      ]
     },
     "metadata": {},
     "output_type": "display_data"
    }
   ],
   "source": [
    "candidate_max_leaf_nodes = [5, 25, 50, 100, 250, 500]\n",
    "# Write loop to find the ideal tree size from candidate_max_leaf_nodes\n",
    "scores = {leaf_size: get_mae(leaf_size, train_X, val_X, train_y, val_y) for leaf_size in candidate_max_leaf_nodes}\n",
    "\n",
    "# Store the best value of max_leaf_nodes (it will be either 5, 25, 50, 100, 250 or 500)\n",
    "best_tree_size = min(scores, key=scores.get)\n",
    "\n",
    "# Check your answer\n",
    "step_1.check()"
   ]
  },
  {
   "cell_type": "code",
   "execution_count": 4,
   "id": "08a23498",
   "metadata": {
    "execution": {
     "iopub.execute_input": "2023-06-13T21:38:07.889621Z",
     "iopub.status.busy": "2023-06-13T21:38:07.888947Z",
     "iopub.status.idle": "2023-06-13T21:38:07.892863Z",
     "shell.execute_reply": "2023-06-13T21:38:07.891955Z"
    },
    "papermill": {
     "duration": 0.012324,
     "end_time": "2023-06-13T21:38:07.895136",
     "exception": false,
     "start_time": "2023-06-13T21:38:07.882812",
     "status": "completed"
    },
    "tags": []
   },
   "outputs": [],
   "source": [
    "# The lines below will show you a hint or the solution.\n",
    "# step_1.hint() \n",
    "# step_1.solution()"
   ]
  },
  {
   "cell_type": "markdown",
   "id": "bc90b58b",
   "metadata": {
    "papermill": {
     "duration": 0.004486,
     "end_time": "2023-06-13T21:38:07.904607",
     "exception": false,
     "start_time": "2023-06-13T21:38:07.900121",
     "status": "completed"
    },
    "tags": []
   },
   "source": [
    "## Step 2: Fit Model Using All Data\n",
    "You know the best tree size. If you were going to deploy this model in practice, you would make it even more accurate by using all of the data and keeping that tree size.  That is, you don't need to hold out the validation data now that you've made all your modeling decisions."
   ]
  },
  {
   "cell_type": "code",
   "execution_count": 5,
   "id": "d391fee6",
   "metadata": {
    "execution": {
     "iopub.execute_input": "2023-06-13T21:38:07.916063Z",
     "iopub.status.busy": "2023-06-13T21:38:07.915093Z",
     "iopub.status.idle": "2023-06-13T21:38:07.933133Z",
     "shell.execute_reply": "2023-06-13T21:38:07.932021Z"
    },
    "papermill": {
     "duration": 0.02627,
     "end_time": "2023-06-13T21:38:07.935519",
     "exception": false,
     "start_time": "2023-06-13T21:38:07.909249",
     "status": "completed"
    },
    "tags": []
   },
   "outputs": [
    {
     "data": {
      "application/javascript": [
       "parent.postMessage({\"jupyterEvent\": \"custom.exercise_interaction\", \"data\": {\"outcomeType\": 1, \"valueTowardsCompletion\": 0.5, \"interactionType\": 1, \"questionType\": 2, \"questionId\": \"2_FitModelWithAllData\", \"learnToolsVersion\": \"0.3.4\", \"failureMessage\": \"\", \"exceptionClass\": \"\", \"trace\": \"\"}}, \"*\")"
      ],
      "text/plain": [
       "<IPython.core.display.Javascript object>"
      ]
     },
     "metadata": {},
     "output_type": "display_data"
    },
    {
     "data": {
      "text/markdown": [
       "<span style=\"color:#33cc33\">Correct</span>"
      ],
      "text/plain": [
       "Correct"
      ]
     },
     "metadata": {},
     "output_type": "display_data"
    }
   ],
   "source": [
    "# Fill in argument to make optimal size and uncomment\n",
    "final_model = DecisionTreeRegressor(max_leaf_nodes=best_tree_size, random_state=1)\n",
    "\n",
    "# fit the final model and uncomment the next two lines\n",
    "final_model.fit(X, y)\n",
    "\n",
    "# Check your answer\n",
    "step_2.check()"
   ]
  },
  {
   "cell_type": "code",
   "execution_count": 6,
   "id": "70ad32c9",
   "metadata": {
    "execution": {
     "iopub.execute_input": "2023-06-13T21:38:07.949065Z",
     "iopub.status.busy": "2023-06-13T21:38:07.948093Z",
     "iopub.status.idle": "2023-06-13T21:38:07.952702Z",
     "shell.execute_reply": "2023-06-13T21:38:07.951943Z"
    },
    "papermill": {
     "duration": 0.014379,
     "end_time": "2023-06-13T21:38:07.954916",
     "exception": false,
     "start_time": "2023-06-13T21:38:07.940537",
     "status": "completed"
    },
    "tags": []
   },
   "outputs": [],
   "source": [
    "# step_2.hint()\n",
    "# step_2.solution()"
   ]
  },
  {
   "cell_type": "markdown",
   "id": "640127a9",
   "metadata": {
    "papermill": {
     "duration": 0.00471,
     "end_time": "2023-06-13T21:38:07.964633",
     "exception": false,
     "start_time": "2023-06-13T21:38:07.959923",
     "status": "completed"
    },
    "tags": []
   },
   "source": [
    "You've tuned this model and improved your results. But we are still using Decision Tree models, which are not very sophisticated by modern machine learning standards. In the next step you will learn to use Random Forests to improve your models even more.\n",
    "\n",
    "# Keep Going\n",
    "\n",
    "You are ready for **[Random Forests](https://www.kaggle.com/dansbecker/random-forests).**\n"
   ]
  },
  {
   "cell_type": "markdown",
   "id": "ea164e84",
   "metadata": {
    "papermill": {
     "duration": 0.004649,
     "end_time": "2023-06-13T21:38:07.974175",
     "exception": false,
     "start_time": "2023-06-13T21:38:07.969526",
     "status": "completed"
    },
    "tags": []
   },
   "source": [
    "---\n",
    "\n",
    "\n",
    "\n",
    "\n",
    "*Have questions or comments? Visit the [course discussion forum](https://www.kaggle.com/learn/intro-to-machine-learning/discussion) to chat with other learners.*"
   ]
  }
 ],
 "metadata": {
  "kernelspec": {
   "display_name": "Python 3",
   "language": "python",
   "name": "python3"
  },
  "language_info": {
   "codemirror_mode": {
    "name": "ipython",
    "version": 3
   },
   "file_extension": ".py",
   "mimetype": "text/x-python",
   "name": "python",
   "nbconvert_exporter": "python",
   "pygments_lexer": "ipython3",
   "version": "3.10.10"
  },
  "papermill": {
   "default_parameters": {},
   "duration": 15.777549,
   "end_time": "2023-06-13T21:38:09.002478",
   "environment_variables": {},
   "exception": null,
   "input_path": "__notebook__.ipynb",
   "output_path": "__notebook__.ipynb",
   "parameters": {},
   "start_time": "2023-06-13T21:37:53.224929",
   "version": "2.4.0"
  }
 },
 "nbformat": 4,
 "nbformat_minor": 5
}
