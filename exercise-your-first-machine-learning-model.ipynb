{
 "cells": [
  {
   "cell_type": "markdown",
   "id": "16b59150",
   "metadata": {
    "papermill": {
     "duration": 0.005247,
     "end_time": "2023-06-13T21:36:40.474398",
     "exception": false,
     "start_time": "2023-06-13T21:36:40.469151",
     "status": "completed"
    },
    "tags": []
   },
   "source": [
    "**This notebook is an exercise in the [Introduction to Machine Learning](https://www.kaggle.com/learn/intro-to-machine-learning) course.  You can reference the tutorial at [this link](https://www.kaggle.com/dansbecker/your-first-machine-learning-model).**\n",
    "\n",
    "---\n"
   ]
  },
  {
   "cell_type": "markdown",
   "id": "e3a00999",
   "metadata": {
    "papermill": {
     "duration": 0.004241,
     "end_time": "2023-06-13T21:36:40.483362",
     "exception": false,
     "start_time": "2023-06-13T21:36:40.479121",
     "status": "completed"
    },
    "tags": []
   },
   "source": [
    "## Recap\n",
    "So far, you have loaded your data and reviewed it with the following code. Run this cell to set up your coding environment where the previous step left off."
   ]
  },
  {
   "cell_type": "code",
   "execution_count": 1,
   "id": "713ca15a",
   "metadata": {
    "execution": {
     "iopub.execute_input": "2023-06-13T21:36:40.494258Z",
     "iopub.status.busy": "2023-06-13T21:36:40.493895Z",
     "iopub.status.idle": "2023-06-13T21:36:42.026670Z",
     "shell.execute_reply": "2023-06-13T21:36:42.025446Z"
    },
    "papermill": {
     "duration": 1.540973,
     "end_time": "2023-06-13T21:36:42.028873",
     "exception": false,
     "start_time": "2023-06-13T21:36:40.487900",
     "status": "completed"
    },
    "tags": []
   },
   "outputs": [
    {
     "name": "stdout",
     "output_type": "stream",
     "text": [
      "Setup Complete\n"
     ]
    }
   ],
   "source": [
    "# Code you have previously used to load data\n",
    "import pandas as pd\n",
    "\n",
    "# Path of the file to read\n",
    "iowa_file_path = '../input/home-data-for-ml-course/train.csv'\n",
    "\n",
    "home_data = pd.read_csv(iowa_file_path)\n",
    "\n",
    "# Set up code checking\n",
    "from learntools.core import binder\n",
    "binder.bind(globals())\n",
    "from learntools.machine_learning.ex3 import *\n",
    "\n",
    "print(\"Setup Complete\")"
   ]
  },
  {
   "cell_type": "markdown",
   "id": "c8739a28",
   "metadata": {
    "papermill": {
     "duration": 0.004647,
     "end_time": "2023-06-13T21:36:42.038393",
     "exception": false,
     "start_time": "2023-06-13T21:36:42.033746",
     "status": "completed"
    },
    "tags": []
   },
   "source": [
    "# Exercises\n",
    "\n",
    "## Step 1: Specify Prediction Target\n",
    "Select the target variable, which corresponds to the sales price. Save this to a new variable called `y`. You'll need to print a list of the columns to find the name of the column you need.\n"
   ]
  },
  {
   "cell_type": "code",
   "execution_count": 2,
   "id": "d4978352",
   "metadata": {
    "execution": {
     "iopub.execute_input": "2023-06-13T21:36:42.049563Z",
     "iopub.status.busy": "2023-06-13T21:36:42.049159Z",
     "iopub.status.idle": "2023-06-13T21:36:42.052879Z",
     "shell.execute_reply": "2023-06-13T21:36:42.052158Z"
    },
    "papermill": {
     "duration": 0.011746,
     "end_time": "2023-06-13T21:36:42.054829",
     "exception": false,
     "start_time": "2023-06-13T21:36:42.043083",
     "status": "completed"
    },
    "tags": []
   },
   "outputs": [],
   "source": [
    "# print the list of columns in the dataset to find the name of the prediction target\n"
   ]
  },
  {
   "cell_type": "code",
   "execution_count": 3,
   "id": "8e0e5197",
   "metadata": {
    "execution": {
     "iopub.execute_input": "2023-06-13T21:36:42.067446Z",
     "iopub.status.busy": "2023-06-13T21:36:42.066934Z",
     "iopub.status.idle": "2023-06-13T21:36:42.080997Z",
     "shell.execute_reply": "2023-06-13T21:36:42.080032Z"
    },
    "papermill": {
     "duration": 0.023439,
     "end_time": "2023-06-13T21:36:42.083040",
     "exception": false,
     "start_time": "2023-06-13T21:36:42.059601",
     "status": "completed"
    },
    "tags": []
   },
   "outputs": [
    {
     "data": {
      "application/javascript": [
       "parent.postMessage({\"jupyterEvent\": \"custom.exercise_interaction\", \"data\": {\"outcomeType\": 1, \"valueTowardsCompletion\": 0.25, \"interactionType\": 1, \"questionType\": 2, \"questionId\": \"1_SetTarget\", \"learnToolsVersion\": \"0.3.4\", \"failureMessage\": \"\", \"exceptionClass\": \"\", \"trace\": \"\"}}, \"*\")"
      ],
      "text/plain": [
       "<IPython.core.display.Javascript object>"
      ]
     },
     "metadata": {},
     "output_type": "display_data"
    },
    {
     "data": {
      "text/markdown": [
       "<span style=\"color:#33cc33\">Correct</span>"
      ],
      "text/plain": [
       "Correct"
      ]
     },
     "metadata": {},
     "output_type": "display_data"
    }
   ],
   "source": [
    "y = home_data.SalePrice\n",
    "\n",
    "# Check your answer\n",
    "step_1.check()"
   ]
  },
  {
   "cell_type": "code",
   "execution_count": 4,
   "id": "0ed5daa6",
   "metadata": {
    "execution": {
     "iopub.execute_input": "2023-06-13T21:36:42.094980Z",
     "iopub.status.busy": "2023-06-13T21:36:42.094374Z",
     "iopub.status.idle": "2023-06-13T21:36:42.098501Z",
     "shell.execute_reply": "2023-06-13T21:36:42.097519Z"
    },
    "papermill": {
     "duration": 0.012289,
     "end_time": "2023-06-13T21:36:42.100630",
     "exception": false,
     "start_time": "2023-06-13T21:36:42.088341",
     "status": "completed"
    },
    "tags": []
   },
   "outputs": [],
   "source": [
    "# The lines below will show you a hint or the solution.\n",
    "# step_1.hint() \n",
    "# step_1.solution()"
   ]
  },
  {
   "cell_type": "markdown",
   "id": "8e0bf857",
   "metadata": {
    "papermill": {
     "duration": 0.005091,
     "end_time": "2023-06-13T21:36:42.111092",
     "exception": false,
     "start_time": "2023-06-13T21:36:42.106001",
     "status": "completed"
    },
    "tags": []
   },
   "source": [
    "## Step 2: Create X\n",
    "Now you will create a DataFrame called `X` holding the predictive features.\n",
    "\n",
    "Since you want only some columns from the original data, you'll first create a list with the names of the columns you want in `X`.\n",
    "\n",
    "You'll use just the following columns in the list (you can copy and paste the whole list to save some typing, though you'll still need to add quotes):\n",
    "  * LotArea\n",
    "  * YearBuilt\n",
    "  * 1stFlrSF\n",
    "  * 2ndFlrSF\n",
    "  * FullBath\n",
    "  * BedroomAbvGr\n",
    "  * TotRmsAbvGrd\n",
    "\n",
    "After you've created that list of features, use it to create the DataFrame that you'll use to fit the model."
   ]
  },
  {
   "cell_type": "code",
   "execution_count": 5,
   "id": "78d72a23",
   "metadata": {
    "execution": {
     "iopub.execute_input": "2023-06-13T21:36:42.124172Z",
     "iopub.status.busy": "2023-06-13T21:36:42.123538Z",
     "iopub.status.idle": "2023-06-13T21:36:42.139780Z",
     "shell.execute_reply": "2023-06-13T21:36:42.138882Z"
    },
    "papermill": {
     "duration": 0.024781,
     "end_time": "2023-06-13T21:36:42.141866",
     "exception": false,
     "start_time": "2023-06-13T21:36:42.117085",
     "status": "completed"
    },
    "tags": []
   },
   "outputs": [
    {
     "data": {
      "application/javascript": [
       "parent.postMessage({\"jupyterEvent\": \"custom.exercise_interaction\", \"data\": {\"outcomeType\": 1, \"valueTowardsCompletion\": 0.25, \"interactionType\": 1, \"questionType\": 2, \"questionId\": \"2_SelectPredictionData\", \"learnToolsVersion\": \"0.3.4\", \"failureMessage\": \"\", \"exceptionClass\": \"\", \"trace\": \"\"}}, \"*\")"
      ],
      "text/plain": [
       "<IPython.core.display.Javascript object>"
      ]
     },
     "metadata": {},
     "output_type": "display_data"
    },
    {
     "data": {
      "text/markdown": [
       "<span style=\"color:#33cc33\">Correct</span>"
      ],
      "text/plain": [
       "Correct"
      ]
     },
     "metadata": {},
     "output_type": "display_data"
    }
   ],
   "source": [
    "# Create the list of features below\n",
    "feature_names = [\"LotArea\", \"YearBuilt\", \"1stFlrSF\", \"2ndFlrSF\",\n",
    "                      \"FullBath\", \"BedroomAbvGr\", \"TotRmsAbvGrd\"]\n",
    "\n",
    "\n",
    "# Select data corresponding to features in feature_names\n",
    "X=home_data[feature_names]\n",
    "\n",
    "# Check your answer\n",
    "step_2.check()"
   ]
  },
  {
   "cell_type": "code",
   "execution_count": 6,
   "id": "6e087b82",
   "metadata": {
    "execution": {
     "iopub.execute_input": "2023-06-13T21:36:42.154666Z",
     "iopub.status.busy": "2023-06-13T21:36:42.153917Z",
     "iopub.status.idle": "2023-06-13T21:36:42.158422Z",
     "shell.execute_reply": "2023-06-13T21:36:42.157550Z"
    },
    "papermill": {
     "duration": 0.013144,
     "end_time": "2023-06-13T21:36:42.160406",
     "exception": false,
     "start_time": "2023-06-13T21:36:42.147262",
     "status": "completed"
    },
    "tags": []
   },
   "outputs": [],
   "source": [
    "# step_2.hint()\n",
    "# step_2.solution()"
   ]
  },
  {
   "cell_type": "markdown",
   "id": "57ea1d0f",
   "metadata": {
    "papermill": {
     "duration": 0.004874,
     "end_time": "2023-06-13T21:36:42.170644",
     "exception": false,
     "start_time": "2023-06-13T21:36:42.165770",
     "status": "completed"
    },
    "tags": []
   },
   "source": [
    "## Review Data\n",
    "Before building a model, take a quick look at **X** to verify it looks sensible"
   ]
  },
  {
   "cell_type": "code",
   "execution_count": 7,
   "id": "7f040c48",
   "metadata": {
    "execution": {
     "iopub.execute_input": "2023-06-13T21:36:42.182928Z",
     "iopub.status.busy": "2023-06-13T21:36:42.182188Z",
     "iopub.status.idle": "2023-06-13T21:36:42.186813Z",
     "shell.execute_reply": "2023-06-13T21:36:42.186042Z"
    },
    "papermill": {
     "duration": 0.013095,
     "end_time": "2023-06-13T21:36:42.188826",
     "exception": false,
     "start_time": "2023-06-13T21:36:42.175731",
     "status": "completed"
    },
    "tags": []
   },
   "outputs": [],
   "source": [
    "# Review data\n",
    "# print description or statistics from X\n",
    "#print(_)\n",
    "\n",
    "# print the top few lines\n",
    "#print(_)"
   ]
  },
  {
   "cell_type": "markdown",
   "id": "f90ee89c",
   "metadata": {
    "papermill": {
     "duration": 0.004861,
     "end_time": "2023-06-13T21:36:42.198990",
     "exception": false,
     "start_time": "2023-06-13T21:36:42.194129",
     "status": "completed"
    },
    "tags": []
   },
   "source": [
    "## Step 3: Specify and Fit Model\n",
    "Create a `DecisionTreeRegressor` and save it iowa_model. Ensure you've done the relevant import from sklearn to run this command.\n",
    "\n",
    "Then fit the model you just created using the data in `X` and `y` that you saved above."
   ]
  },
  {
   "cell_type": "code",
   "execution_count": 8,
   "id": "fd022f34",
   "metadata": {
    "execution": {
     "iopub.execute_input": "2023-06-13T21:36:42.211002Z",
     "iopub.status.busy": "2023-06-13T21:36:42.210371Z",
     "iopub.status.idle": "2023-06-13T21:36:42.228807Z",
     "shell.execute_reply": "2023-06-13T21:36:42.227877Z"
    },
    "papermill": {
     "duration": 0.026912,
     "end_time": "2023-06-13T21:36:42.231001",
     "exception": false,
     "start_time": "2023-06-13T21:36:42.204089",
     "status": "completed"
    },
    "tags": []
   },
   "outputs": [
    {
     "data": {
      "application/javascript": [
       "parent.postMessage({\"jupyterEvent\": \"custom.exercise_interaction\", \"data\": {\"outcomeType\": 1, \"valueTowardsCompletion\": 0.25, \"interactionType\": 1, \"questionType\": 2, \"questionId\": \"3_CreateModel\", \"learnToolsVersion\": \"0.3.4\", \"failureMessage\": \"\", \"exceptionClass\": \"\", \"trace\": \"\"}}, \"*\")"
      ],
      "text/plain": [
       "<IPython.core.display.Javascript object>"
      ]
     },
     "metadata": {},
     "output_type": "display_data"
    },
    {
     "data": {
      "text/markdown": [
       "<span style=\"color:#33cc33\">Correct</span>"
      ],
      "text/plain": [
       "Correct"
      ]
     },
     "metadata": {},
     "output_type": "display_data"
    }
   ],
   "source": [
    "from sklearn.tree import DecisionTreeRegressor\n",
    "#specify the model. \n",
    "#For model reproducibility, set a numeric value for random_state when specifying the model\n",
    "iowa_model = DecisionTreeRegressor(random_state=1)\n",
    "\n",
    "# Fit the model\n",
    "iowa_model.fit(X, y)\n",
    "\n",
    "# Check your answer\n",
    "step_3.check()"
   ]
  },
  {
   "cell_type": "code",
   "execution_count": 9,
   "id": "52575c23",
   "metadata": {
    "execution": {
     "iopub.execute_input": "2023-06-13T21:36:42.243817Z",
     "iopub.status.busy": "2023-06-13T21:36:42.243453Z",
     "iopub.status.idle": "2023-06-13T21:36:42.247829Z",
     "shell.execute_reply": "2023-06-13T21:36:42.246904Z"
    },
    "papermill": {
     "duration": 0.013156,
     "end_time": "2023-06-13T21:36:42.249864",
     "exception": false,
     "start_time": "2023-06-13T21:36:42.236708",
     "status": "completed"
    },
    "tags": []
   },
   "outputs": [],
   "source": [
    "# step_3.hint()\n",
    "# step_3.solution()"
   ]
  },
  {
   "cell_type": "markdown",
   "id": "cc1f5516",
   "metadata": {
    "papermill": {
     "duration": 0.005253,
     "end_time": "2023-06-13T21:36:42.260640",
     "exception": false,
     "start_time": "2023-06-13T21:36:42.255387",
     "status": "completed"
    },
    "tags": []
   },
   "source": [
    "## Step 4: Make Predictions\n",
    "Make predictions with the model's `predict` command using `X` as the data. Save the results to a variable called `predictions`."
   ]
  },
  {
   "cell_type": "code",
   "execution_count": 10,
   "id": "7f58e87a",
   "metadata": {
    "execution": {
     "iopub.execute_input": "2023-06-13T21:36:42.273503Z",
     "iopub.status.busy": "2023-06-13T21:36:42.272781Z",
     "iopub.status.idle": "2023-06-13T21:36:42.286204Z",
     "shell.execute_reply": "2023-06-13T21:36:42.285226Z"
    },
    "papermill": {
     "duration": 0.021858,
     "end_time": "2023-06-13T21:36:42.288012",
     "exception": false,
     "start_time": "2023-06-13T21:36:42.266154",
     "status": "completed"
    },
    "tags": []
   },
   "outputs": [
    {
     "name": "stdout",
     "output_type": "stream",
     "text": [
      "[208500. 181500. 223500. ... 266500. 142125. 147500.]\n"
     ]
    },
    {
     "data": {
      "application/javascript": [
       "parent.postMessage({\"jupyterEvent\": \"custom.exercise_interaction\", \"data\": {\"outcomeType\": 1, \"valueTowardsCompletion\": 0.25, \"interactionType\": 1, \"questionType\": 2, \"questionId\": \"4_MakePredictions\", \"learnToolsVersion\": \"0.3.4\", \"failureMessage\": \"\", \"exceptionClass\": \"\", \"trace\": \"\"}}, \"*\")"
      ],
      "text/plain": [
       "<IPython.core.display.Javascript object>"
      ]
     },
     "metadata": {},
     "output_type": "display_data"
    },
    {
     "data": {
      "text/markdown": [
       "<span style=\"color:#33cc33\">Correct</span>"
      ],
      "text/plain": [
       "Correct"
      ]
     },
     "metadata": {},
     "output_type": "display_data"
    }
   ],
   "source": [
    "predictions = iowa_model.predict(X)\n",
    "print(predictions)\n",
    "\n",
    "# Check your answer\n",
    "step_4.check()"
   ]
  },
  {
   "cell_type": "code",
   "execution_count": 11,
   "id": "ba8817df",
   "metadata": {
    "execution": {
     "iopub.execute_input": "2023-06-13T21:36:42.300990Z",
     "iopub.status.busy": "2023-06-13T21:36:42.300604Z",
     "iopub.status.idle": "2023-06-13T21:36:42.304941Z",
     "shell.execute_reply": "2023-06-13T21:36:42.303946Z"
    },
    "papermill": {
     "duration": 0.013244,
     "end_time": "2023-06-13T21:36:42.307124",
     "exception": false,
     "start_time": "2023-06-13T21:36:42.293880",
     "status": "completed"
    },
    "tags": []
   },
   "outputs": [],
   "source": [
    "# step_4.hint()\n",
    "# step_4.solution()"
   ]
  },
  {
   "cell_type": "markdown",
   "id": "2a5460ac",
   "metadata": {
    "papermill": {
     "duration": 0.005479,
     "end_time": "2023-06-13T21:36:42.318399",
     "exception": false,
     "start_time": "2023-06-13T21:36:42.312920",
     "status": "completed"
    },
    "tags": []
   },
   "source": [
    "## Think About Your Results\n",
    "\n",
    "Use the `head` method to compare the top few predictions to the actual home values (in `y`) for those same homes. Anything surprising?\n"
   ]
  },
  {
   "cell_type": "code",
   "execution_count": 12,
   "id": "502c7da1",
   "metadata": {
    "execution": {
     "iopub.execute_input": "2023-06-13T21:36:42.331431Z",
     "iopub.status.busy": "2023-06-13T21:36:42.331029Z",
     "iopub.status.idle": "2023-06-13T21:36:42.335595Z",
     "shell.execute_reply": "2023-06-13T21:36:42.334619Z"
    },
    "papermill": {
     "duration": 0.013561,
     "end_time": "2023-06-13T21:36:42.337627",
     "exception": false,
     "start_time": "2023-06-13T21:36:42.324066",
     "status": "completed"
    },
    "tags": []
   },
   "outputs": [],
   "source": [
    "# You can write code in this cell\n"
   ]
  },
  {
   "cell_type": "markdown",
   "id": "535634d0",
   "metadata": {
    "papermill": {
     "duration": 0.005568,
     "end_time": "2023-06-13T21:36:42.349001",
     "exception": false,
     "start_time": "2023-06-13T21:36:42.343433",
     "status": "completed"
    },
    "tags": []
   },
   "source": [
    "It's natural to ask how accurate the model's predictions will be and how you can improve that. That will be you're next step.\n",
    "\n",
    "# Keep Going\n",
    "\n",
    "You are ready for **[Model Validation](https://www.kaggle.com/dansbecker/model-validation).**\n"
   ]
  },
  {
   "cell_type": "markdown",
   "id": "96de6c7c",
   "metadata": {
    "papermill": {
     "duration": 0.005371,
     "end_time": "2023-06-13T21:36:42.360009",
     "exception": false,
     "start_time": "2023-06-13T21:36:42.354638",
     "status": "completed"
    },
    "tags": []
   },
   "source": [
    "---\n",
    "\n",
    "\n",
    "\n",
    "\n",
    "*Have questions or comments? Visit the [course discussion forum](https://www.kaggle.com/learn/intro-to-machine-learning/discussion) to chat with other learners.*"
   ]
  }
 ],
 "metadata": {
  "kernelspec": {
   "display_name": "Python 3",
   "language": "python",
   "name": "python3"
  },
  "language_info": {
   "codemirror_mode": {
    "name": "ipython",
    "version": 3
   },
   "file_extension": ".py",
   "mimetype": "text/x-python",
   "name": "python",
   "nbconvert_exporter": "python",
   "pygments_lexer": "ipython3",
   "version": "3.10.10"
  },
  "papermill": {
   "default_parameters": {},
   "duration": 12.313023,
   "end_time": "2023-06-13T21:36:43.286524",
   "environment_variables": {},
   "exception": null,
   "input_path": "__notebook__.ipynb",
   "output_path": "__notebook__.ipynb",
   "parameters": {},
   "start_time": "2023-06-13T21:36:30.973501",
   "version": "2.4.0"
  }
 },
 "nbformat": 4,
 "nbformat_minor": 5
}
