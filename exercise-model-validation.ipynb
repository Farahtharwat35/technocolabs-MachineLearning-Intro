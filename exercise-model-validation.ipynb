{
 "cells": [
  {
   "cell_type": "markdown",
   "id": "4c4a11ea",
   "metadata": {
    "papermill": {
     "duration": 0.004412,
     "end_time": "2023-06-13T21:37:06.315281",
     "exception": false,
     "start_time": "2023-06-13T21:37:06.310869",
     "status": "completed"
    },
    "tags": []
   },
   "source": [
    "**This notebook is an exercise in the [Introduction to Machine Learning](https://www.kaggle.com/learn/intro-to-machine-learning) course.  You can reference the tutorial at [this link](https://www.kaggle.com/dansbecker/model-validation).**\n",
    "\n",
    "---\n"
   ]
  },
  {
   "cell_type": "markdown",
   "id": "00a26b07",
   "metadata": {
    "papermill": {
     "duration": 0.003394,
     "end_time": "2023-06-13T21:37:06.322509",
     "exception": false,
     "start_time": "2023-06-13T21:37:06.319115",
     "status": "completed"
    },
    "tags": []
   },
   "source": [
    "## Recap\n",
    "You've built a model. In this exercise you will test how good your model is.\n",
    "\n",
    "Run the cell below to set up your coding environment where the previous exercise left off."
   ]
  },
  {
   "cell_type": "code",
   "execution_count": 1,
   "id": "20f0bf8b",
   "metadata": {
    "execution": {
     "iopub.execute_input": "2023-06-13T21:37:06.331425Z",
     "iopub.status.busy": "2023-06-13T21:37:06.331094Z",
     "iopub.status.idle": "2023-06-13T21:37:08.273163Z",
     "shell.execute_reply": "2023-06-13T21:37:08.271294Z"
    },
    "papermill": {
     "duration": 1.949649,
     "end_time": "2023-06-13T21:37:08.275687",
     "exception": false,
     "start_time": "2023-06-13T21:37:06.326038",
     "status": "completed"
    },
    "tags": []
   },
   "outputs": [
    {
     "name": "stdout",
     "output_type": "stream",
     "text": [
      "First in-sample predictions: [208500. 181500. 223500. 140000. 250000.]\n",
      "Actual target values for those homes: [208500, 181500, 223500, 140000, 250000]\n",
      "Setup Complete\n"
     ]
    }
   ],
   "source": [
    "# Code you have previously used to load data\n",
    "import pandas as pd\n",
    "from sklearn.tree import DecisionTreeRegressor\n",
    "\n",
    "# Path of the file to read\n",
    "iowa_file_path = '../input/home-data-for-ml-course/train.csv'\n",
    "\n",
    "home_data = pd.read_csv(iowa_file_path)\n",
    "y = home_data.SalePrice\n",
    "feature_columns = ['LotArea', 'YearBuilt', '1stFlrSF', '2ndFlrSF', 'FullBath', 'BedroomAbvGr', 'TotRmsAbvGrd']\n",
    "X = home_data[feature_columns]\n",
    "\n",
    "# Specify Model\n",
    "iowa_model = DecisionTreeRegressor()\n",
    "# Fit Model\n",
    "iowa_model.fit(X, y)\n",
    "\n",
    "print(\"First in-sample predictions:\", iowa_model.predict(X.head()))\n",
    "print(\"Actual target values for those homes:\", y.head().tolist())\n",
    "\n",
    "# Set up code checking\n",
    "from learntools.core import binder\n",
    "binder.bind(globals())\n",
    "from learntools.machine_learning.ex4 import *\n",
    "print(\"Setup Complete\")"
   ]
  },
  {
   "cell_type": "markdown",
   "id": "00ae690e",
   "metadata": {
    "papermill": {
     "duration": 0.003807,
     "end_time": "2023-06-13T21:37:08.284217",
     "exception": false,
     "start_time": "2023-06-13T21:37:08.280410",
     "status": "completed"
    },
    "tags": []
   },
   "source": [
    "# Exercises\n",
    "\n",
    "## Step 1: Split Your Data\n",
    "Use the `train_test_split` function to split up your data.\n",
    "\n",
    "Give it the argument `random_state=1` so the `check` functions know what to expect when verifying your code.\n",
    "\n",
    "Recall, your features are loaded in the DataFrame **X** and your target is loaded in **y**.\n"
   ]
  },
  {
   "cell_type": "code",
   "execution_count": 2,
   "id": "56fd2a3a",
   "metadata": {
    "execution": {
     "iopub.execute_input": "2023-06-13T21:37:08.294128Z",
     "iopub.status.busy": "2023-06-13T21:37:08.293798Z",
     "iopub.status.idle": "2023-06-13T21:37:08.308462Z",
     "shell.execute_reply": "2023-06-13T21:37:08.306911Z"
    },
    "papermill": {
     "duration": 0.022634,
     "end_time": "2023-06-13T21:37:08.311027",
     "exception": false,
     "start_time": "2023-06-13T21:37:08.288393",
     "status": "completed"
    },
    "tags": []
   },
   "outputs": [
    {
     "data": {
      "application/javascript": [
       "parent.postMessage({\"jupyterEvent\": \"custom.exercise_interaction\", \"data\": {\"outcomeType\": 1, \"valueTowardsCompletion\": 0.25, \"interactionType\": 1, \"questionType\": 2, \"questionId\": \"1_SplitData\", \"learnToolsVersion\": \"0.3.4\", \"failureMessage\": \"\", \"exceptionClass\": \"\", \"trace\": \"\"}}, \"*\")"
      ],
      "text/plain": [
       "<IPython.core.display.Javascript object>"
      ]
     },
     "metadata": {},
     "output_type": "display_data"
    },
    {
     "data": {
      "text/markdown": [
       "<span style=\"color:#33cc33\">Correct</span>"
      ],
      "text/plain": [
       "Correct"
      ]
     },
     "metadata": {},
     "output_type": "display_data"
    }
   ],
   "source": [
    "# Import the train_test_split function and uncomment\n",
    "from sklearn.model_selection import train_test_split\n",
    "\n",
    "# fill in and uncomment\n",
    "train_X, val_X, train_y, val_y = train_test_split(X, y, random_state=1)\n",
    "\n",
    "# Check your answer\n",
    "step_1.check()"
   ]
  },
  {
   "cell_type": "code",
   "execution_count": 3,
   "id": "2ce7af18",
   "metadata": {
    "execution": {
     "iopub.execute_input": "2023-06-13T21:37:08.322842Z",
     "iopub.status.busy": "2023-06-13T21:37:08.322443Z",
     "iopub.status.idle": "2023-06-13T21:37:08.327300Z",
     "shell.execute_reply": "2023-06-13T21:37:08.325894Z"
    },
    "papermill": {
     "duration": 0.015116,
     "end_time": "2023-06-13T21:37:08.330651",
     "exception": false,
     "start_time": "2023-06-13T21:37:08.315535",
     "status": "completed"
    },
    "tags": []
   },
   "outputs": [],
   "source": [
    "# The lines below will show you a hint or the solution.\n",
    "# step_1.hint() \n",
    "# step_1.solution()\n"
   ]
  },
  {
   "cell_type": "markdown",
   "id": "e9550ec4",
   "metadata": {
    "papermill": {
     "duration": 0.004112,
     "end_time": "2023-06-13T21:37:08.341001",
     "exception": false,
     "start_time": "2023-06-13T21:37:08.336889",
     "status": "completed"
    },
    "tags": []
   },
   "source": [
    "## Step 2: Specify and Fit the Model\n",
    "\n",
    "Create a `DecisionTreeRegressor` model and fit it to the relevant data.\n",
    "Set `random_state` to 1 again when creating the model."
   ]
  },
  {
   "cell_type": "code",
   "execution_count": 4,
   "id": "85529277",
   "metadata": {
    "execution": {
     "iopub.execute_input": "2023-06-13T21:37:08.351363Z",
     "iopub.status.busy": "2023-06-13T21:37:08.351030Z",
     "iopub.status.idle": "2023-06-13T21:37:08.377134Z",
     "shell.execute_reply": "2023-06-13T21:37:08.375575Z"
    },
    "papermill": {
     "duration": 0.034248,
     "end_time": "2023-06-13T21:37:08.379796",
     "exception": false,
     "start_time": "2023-06-13T21:37:08.345548",
     "status": "completed"
    },
    "tags": []
   },
   "outputs": [
    {
     "name": "stdout",
     "output_type": "stream",
     "text": [
      "[186500. 184000. 130000.  92000. 164500. 220000. 335000. 144152. 215000.\n",
      " 262000.]\n",
      "[186500. 184000. 130000.  92000. 164500. 220000. 335000. 144152. 215000.\n",
      " 262000.]\n"
     ]
    },
    {
     "data": {
      "application/javascript": [
       "parent.postMessage({\"jupyterEvent\": \"custom.exercise_interaction\", \"data\": {\"outcomeType\": 1, \"valueTowardsCompletion\": 0.25, \"interactionType\": 1, \"questionType\": 2, \"questionId\": \"2_FitModelWithTrain\", \"learnToolsVersion\": \"0.3.4\", \"failureMessage\": \"\", \"exceptionClass\": \"\", \"trace\": \"\"}}, \"*\")"
      ],
      "text/plain": [
       "<IPython.core.display.Javascript object>"
      ]
     },
     "metadata": {},
     "output_type": "display_data"
    },
    {
     "data": {
      "text/markdown": [
       "<span style=\"color:#33cc33\">Correct</span>"
      ],
      "text/plain": [
       "Correct"
      ]
     },
     "metadata": {},
     "output_type": "display_data"
    }
   ],
   "source": [
    "# You imported DecisionTreeRegressor in your last exercise\n",
    "# and that code has been copied to the setup code above. So, no need to\n",
    "# import it again\n",
    "\n",
    "# Specify the model\n",
    "iowa_model = DecisionTreeRegressor(random_state=1)\n",
    "\n",
    "# Fit iowa_model with the training data.\n",
    "iowa_model.fit(train_X, train_y)\n",
    "\n",
    "# Check your answer\n",
    "step_2.check()"
   ]
  },
  {
   "cell_type": "code",
   "execution_count": 5,
   "id": "babd878a",
   "metadata": {
    "execution": {
     "iopub.execute_input": "2023-06-13T21:37:08.390732Z",
     "iopub.status.busy": "2023-06-13T21:37:08.390401Z",
     "iopub.status.idle": "2023-06-13T21:37:08.395259Z",
     "shell.execute_reply": "2023-06-13T21:37:08.393594Z"
    },
    "papermill": {
     "duration": 0.01274,
     "end_time": "2023-06-13T21:37:08.397394",
     "exception": false,
     "start_time": "2023-06-13T21:37:08.384654",
     "status": "completed"
    },
    "tags": []
   },
   "outputs": [],
   "source": [
    "# step_2.hint()\n",
    "# step_2.solution()"
   ]
  },
  {
   "cell_type": "markdown",
   "id": "52e06947",
   "metadata": {
    "papermill": {
     "duration": 0.004396,
     "end_time": "2023-06-13T21:37:08.407079",
     "exception": false,
     "start_time": "2023-06-13T21:37:08.402683",
     "status": "completed"
    },
    "tags": []
   },
   "source": [
    "## Step 3: Make Predictions with Validation data\n"
   ]
  },
  {
   "cell_type": "code",
   "execution_count": 6,
   "id": "16acf216",
   "metadata": {
    "execution": {
     "iopub.execute_input": "2023-06-13T21:37:08.417971Z",
     "iopub.status.busy": "2023-06-13T21:37:08.417651Z",
     "iopub.status.idle": "2023-06-13T21:37:08.430808Z",
     "shell.execute_reply": "2023-06-13T21:37:08.429085Z"
    },
    "papermill": {
     "duration": 0.021213,
     "end_time": "2023-06-13T21:37:08.433039",
     "exception": false,
     "start_time": "2023-06-13T21:37:08.411826",
     "status": "completed"
    },
    "tags": []
   },
   "outputs": [
    {
     "data": {
      "application/javascript": [
       "parent.postMessage({\"jupyterEvent\": \"custom.exercise_interaction\", \"data\": {\"outcomeType\": 1, \"valueTowardsCompletion\": 0.25, \"interactionType\": 1, \"questionType\": 2, \"questionId\": \"3_ValPreds\", \"learnToolsVersion\": \"0.3.4\", \"failureMessage\": \"\", \"exceptionClass\": \"\", \"trace\": \"\"}}, \"*\")"
      ],
      "text/plain": [
       "<IPython.core.display.Javascript object>"
      ]
     },
     "metadata": {},
     "output_type": "display_data"
    },
    {
     "data": {
      "text/markdown": [
       "<span style=\"color:#33cc33\">Correct</span>"
      ],
      "text/plain": [
       "Correct"
      ]
     },
     "metadata": {},
     "output_type": "display_data"
    }
   ],
   "source": [
    "# Predict with all validation observations\n",
    "val_predictions = iowa_model.predict(val_X)\n",
    "\n",
    "# Check your answer\n",
    "step_3.check()"
   ]
  },
  {
   "cell_type": "code",
   "execution_count": 7,
   "id": "16e7442e",
   "metadata": {
    "execution": {
     "iopub.execute_input": "2023-06-13T21:37:08.444121Z",
     "iopub.status.busy": "2023-06-13T21:37:08.443660Z",
     "iopub.status.idle": "2023-06-13T21:37:08.447088Z",
     "shell.execute_reply": "2023-06-13T21:37:08.446071Z"
    },
    "papermill": {
     "duration": 0.011678,
     "end_time": "2023-06-13T21:37:08.449474",
     "exception": false,
     "start_time": "2023-06-13T21:37:08.437796",
     "status": "completed"
    },
    "tags": []
   },
   "outputs": [],
   "source": [
    "# step_3.hint()\n",
    "# step_3.solution()"
   ]
  },
  {
   "cell_type": "markdown",
   "id": "008e8484",
   "metadata": {
    "papermill": {
     "duration": 0.004706,
     "end_time": "2023-06-13T21:37:08.459037",
     "exception": false,
     "start_time": "2023-06-13T21:37:08.454331",
     "status": "completed"
    },
    "tags": []
   },
   "source": [
    "Inspect your predictions and actual values from validation data."
   ]
  },
  {
   "cell_type": "code",
   "execution_count": 8,
   "id": "8460eb71",
   "metadata": {
    "execution": {
     "iopub.execute_input": "2023-06-13T21:37:08.470413Z",
     "iopub.status.busy": "2023-06-13T21:37:08.469864Z",
     "iopub.status.idle": "2023-06-13T21:37:08.474863Z",
     "shell.execute_reply": "2023-06-13T21:37:08.473337Z"
    },
    "papermill": {
     "duration": 0.013941,
     "end_time": "2023-06-13T21:37:08.477698",
     "exception": false,
     "start_time": "2023-06-13T21:37:08.463757",
     "status": "completed"
    },
    "tags": []
   },
   "outputs": [
    {
     "name": "stdout",
     "output_type": "stream",
     "text": [
      "<learntools.core.constants.PlaceholderValue object at 0x7a16c641f9d0>\n",
      "<learntools.core.constants.PlaceholderValue object at 0x7a16c641f9d0>\n"
     ]
    }
   ],
   "source": [
    "# print the top few validation predictions\n",
    "print(____)\n",
    "# print the top few actual prices from validation data\n",
    "print(____)"
   ]
  },
  {
   "cell_type": "markdown",
   "id": "a841192f",
   "metadata": {
    "papermill": {
     "duration": 0.004444,
     "end_time": "2023-06-13T21:37:08.487288",
     "exception": false,
     "start_time": "2023-06-13T21:37:08.482844",
     "status": "completed"
    },
    "tags": []
   },
   "source": [
    "What do you notice that is different from what you saw with in-sample predictions (which are printed after the top code cell in this page).\n",
    "\n",
    "Do you remember why validation predictions differ from in-sample (or training) predictions? This is an important idea from the last lesson.\n",
    "\n",
    "## Step 4: Calculate the Mean Absolute Error in Validation Data\n"
   ]
  },
  {
   "cell_type": "code",
   "execution_count": 9,
   "id": "c6b2ed9f",
   "metadata": {
    "execution": {
     "iopub.execute_input": "2023-06-13T21:37:08.498108Z",
     "iopub.status.busy": "2023-06-13T21:37:08.497749Z",
     "iopub.status.idle": "2023-06-13T21:37:08.506980Z",
     "shell.execute_reply": "2023-06-13T21:37:08.505505Z"
    },
    "papermill": {
     "duration": 0.017119,
     "end_time": "2023-06-13T21:37:08.509064",
     "exception": false,
     "start_time": "2023-06-13T21:37:08.491945",
     "status": "completed"
    },
    "tags": []
   },
   "outputs": [
    {
     "data": {
      "application/javascript": [
       "parent.postMessage({\"jupyterEvent\": \"custom.exercise_interaction\", \"data\": {\"outcomeType\": 1, \"valueTowardsCompletion\": 0.25, \"interactionType\": 1, \"questionType\": 1, \"questionId\": \"4_MAE\", \"learnToolsVersion\": \"0.3.4\", \"failureMessage\": \"\", \"exceptionClass\": \"\", \"trace\": \"\"}}, \"*\")"
      ],
      "text/plain": [
       "<IPython.core.display.Javascript object>"
      ]
     },
     "metadata": {},
     "output_type": "display_data"
    },
    {
     "data": {
      "text/markdown": [
       "<span style=\"color:#33cc33\">Correct</span>"
      ],
      "text/plain": [
       "Correct"
      ]
     },
     "metadata": {},
     "output_type": "display_data"
    }
   ],
   "source": [
    "from sklearn.metrics import mean_absolute_error\n",
    "val_mae = mean_absolute_error(val_y, val_predictions)\n",
    "\n",
    "# uncomment following line to see the validation_mae\n",
    "#print(val_mae)\n",
    "\n",
    "# Check your answer\n",
    "step_4.check()"
   ]
  },
  {
   "cell_type": "code",
   "execution_count": 10,
   "id": "4854712d",
   "metadata": {
    "execution": {
     "iopub.execute_input": "2023-06-13T21:37:08.521087Z",
     "iopub.status.busy": "2023-06-13T21:37:08.520751Z",
     "iopub.status.idle": "2023-06-13T21:37:08.525062Z",
     "shell.execute_reply": "2023-06-13T21:37:08.523827Z"
    },
    "papermill": {
     "duration": 0.012969,
     "end_time": "2023-06-13T21:37:08.527209",
     "exception": false,
     "start_time": "2023-06-13T21:37:08.514240",
     "status": "completed"
    },
    "tags": []
   },
   "outputs": [],
   "source": [
    "# step_4.hint()\n",
    "# step_4.solution()"
   ]
  },
  {
   "cell_type": "markdown",
   "id": "37e35768",
   "metadata": {
    "papermill": {
     "duration": 0.004466,
     "end_time": "2023-06-13T21:37:08.537536",
     "exception": false,
     "start_time": "2023-06-13T21:37:08.533070",
     "status": "completed"
    },
    "tags": []
   },
   "source": [
    "Is that MAE good?  There isn't a general rule for what values are good that applies across applications. But you'll see how to use (and improve) this number in the next step.\n",
    "\n",
    "# Keep Going\n",
    "\n",
    "You are ready for **[Underfitting and Overfitting](https://www.kaggle.com/dansbecker/underfitting-and-overfitting).**\n"
   ]
  },
  {
   "cell_type": "markdown",
   "id": "04a4e62b",
   "metadata": {
    "papermill": {
     "duration": 0.004967,
     "end_time": "2023-06-13T21:37:08.547395",
     "exception": false,
     "start_time": "2023-06-13T21:37:08.542428",
     "status": "completed"
    },
    "tags": []
   },
   "source": [
    "---\n",
    "\n",
    "\n",
    "\n",
    "\n",
    "*Have questions or comments? Visit the [course discussion forum](https://www.kaggle.com/learn/intro-to-machine-learning/discussion) to chat with other learners.*"
   ]
  }
 ],
 "metadata": {
  "kernelspec": {
   "display_name": "Python 3",
   "language": "python",
   "name": "python3"
  },
  "language_info": {
   "codemirror_mode": {
    "name": "ipython",
    "version": 3
   },
   "file_extension": ".py",
   "mimetype": "text/x-python",
   "name": "python",
   "nbconvert_exporter": "python",
   "pygments_lexer": "ipython3",
   "version": "3.10.10"
  },
  "papermill": {
   "default_parameters": {},
   "duration": 12.662424,
   "end_time": "2023-06-13T21:37:09.474408",
   "environment_variables": {},
   "exception": null,
   "input_path": "__notebook__.ipynb",
   "output_path": "__notebook__.ipynb",
   "parameters": {},
   "start_time": "2023-06-13T21:36:56.811984",
   "version": "2.4.0"
  }
 },
 "nbformat": 4,
 "nbformat_minor": 5
}
